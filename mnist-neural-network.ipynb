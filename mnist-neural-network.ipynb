{
 "metadata": {
  "kernelspec": {
   "language": "python",
   "display_name": "Python 3",
   "name": "python3"
  },
  "language_info": {
   "name": "python",
   "version": "3.10.12",
   "mimetype": "text/x-python",
   "codemirror_mode": {
    "name": "ipython",
    "version": 3
   },
   "pygments_lexer": "ipython3",
   "nbconvert_exporter": "python",
   "file_extension": ".py"
  },
  "kaggle": {
   "accelerator": "none",
   "dataSources": [
    {
     "sourceId": 3004,
     "databundleVersionId": 861823,
     "sourceType": "competition"
    }
   ],
   "dockerImageVersionId": 30918,
   "isInternetEnabled": false,
   "language": "python",
   "sourceType": "notebook",
   "isGpuEnabled": false
  }
 },
 "nbformat_minor": 4,
 "nbformat": 4,
 "cells": [
  {
   "cell_type": "code",
   "source": "import numpy as np\nimport pandas as pd\nfrom matplotlib import pyplot as plt",
   "metadata": {
    "trusted": true,
    "execution": {
     "iopub.status.busy": "2025-03-30T23:06:16.281282Z",
     "iopub.execute_input": "2025-03-30T23:06:16.281597Z",
     "iopub.status.idle": "2025-03-30T23:06:16.291515Z",
     "shell.execute_reply.started": "2025-03-30T23:06:16.281572Z",
     "shell.execute_reply": "2025-03-30T23:06:16.290675Z"
    },
    "ExecuteTime": {
     "end_time": "2025-04-01T16:53:02.858509Z",
     "start_time": "2025-04-01T16:52:59.129399Z"
    }
   },
   "outputs": [],
   "execution_count": 2
  },
  {
   "cell_type": "code",
   "source": "data = pd.read_csv('data/MNISTDigitRecognizerDataset/train.csv')",
   "metadata": {
    "trusted": true,
    "execution": {
     "iopub.status.busy": "2025-03-30T23:06:16.292735Z",
     "iopub.execute_input": "2025-03-30T23:06:16.292993Z",
     "iopub.status.idle": "2025-03-30T23:06:18.578408Z",
     "shell.execute_reply.started": "2025-03-30T23:06:16.292972Z",
     "shell.execute_reply": "2025-03-30T23:06:18.577570Z"
    },
    "ExecuteTime": {
     "end_time": "2025-04-01T16:53:07.574616Z",
     "start_time": "2025-04-01T16:53:02.872470Z"
    }
   },
   "outputs": [],
   "execution_count": 3
  },
  {
   "cell_type": "code",
   "source": "data.head()",
   "metadata": {
    "trusted": true,
    "execution": {
     "iopub.status.busy": "2025-03-30T23:06:18.580190Z",
     "iopub.execute_input": "2025-03-30T23:06:18.580571Z",
     "iopub.status.idle": "2025-03-30T23:06:18.595831Z",
     "shell.execute_reply.started": "2025-03-30T23:06:18.580531Z",
     "shell.execute_reply": "2025-03-30T23:06:18.594930Z"
    },
    "ExecuteTime": {
     "end_time": "2025-04-01T16:53:08.052330Z",
     "start_time": "2025-04-01T16:53:08.004167Z"
    }
   },
   "outputs": [
    {
     "data": {
      "text/plain": [
       "   label  pixel0  pixel1  pixel2  pixel3  pixel4  pixel5  pixel6  pixel7  \\\n",
       "0      1       0       0       0       0       0       0       0       0   \n",
       "1      0       0       0       0       0       0       0       0       0   \n",
       "2      1       0       0       0       0       0       0       0       0   \n",
       "3      4       0       0       0       0       0       0       0       0   \n",
       "4      0       0       0       0       0       0       0       0       0   \n",
       "\n",
       "   pixel8  ...  pixel774  pixel775  pixel776  pixel777  pixel778  pixel779  \\\n",
       "0       0  ...         0         0         0         0         0         0   \n",
       "1       0  ...         0         0         0         0         0         0   \n",
       "2       0  ...         0         0         0         0         0         0   \n",
       "3       0  ...         0         0         0         0         0         0   \n",
       "4       0  ...         0         0         0         0         0         0   \n",
       "\n",
       "   pixel780  pixel781  pixel782  pixel783  \n",
       "0         0         0         0         0  \n",
       "1         0         0         0         0  \n",
       "2         0         0         0         0  \n",
       "3         0         0         0         0  \n",
       "4         0         0         0         0  \n",
       "\n",
       "[5 rows x 785 columns]"
      ],
      "text/html": [
       "<div>\n",
       "<style scoped>\n",
       "    .dataframe tbody tr th:only-of-type {\n",
       "        vertical-align: middle;\n",
       "    }\n",
       "\n",
       "    .dataframe tbody tr th {\n",
       "        vertical-align: top;\n",
       "    }\n",
       "\n",
       "    .dataframe thead th {\n",
       "        text-align: right;\n",
       "    }\n",
       "</style>\n",
       "<table border=\"1\" class=\"dataframe\">\n",
       "  <thead>\n",
       "    <tr style=\"text-align: right;\">\n",
       "      <th></th>\n",
       "      <th>label</th>\n",
       "      <th>pixel0</th>\n",
       "      <th>pixel1</th>\n",
       "      <th>pixel2</th>\n",
       "      <th>pixel3</th>\n",
       "      <th>pixel4</th>\n",
       "      <th>pixel5</th>\n",
       "      <th>pixel6</th>\n",
       "      <th>pixel7</th>\n",
       "      <th>pixel8</th>\n",
       "      <th>...</th>\n",
       "      <th>pixel774</th>\n",
       "      <th>pixel775</th>\n",
       "      <th>pixel776</th>\n",
       "      <th>pixel777</th>\n",
       "      <th>pixel778</th>\n",
       "      <th>pixel779</th>\n",
       "      <th>pixel780</th>\n",
       "      <th>pixel781</th>\n",
       "      <th>pixel782</th>\n",
       "      <th>pixel783</th>\n",
       "    </tr>\n",
       "  </thead>\n",
       "  <tbody>\n",
       "    <tr>\n",
       "      <th>0</th>\n",
       "      <td>1</td>\n",
       "      <td>0</td>\n",
       "      <td>0</td>\n",
       "      <td>0</td>\n",
       "      <td>0</td>\n",
       "      <td>0</td>\n",
       "      <td>0</td>\n",
       "      <td>0</td>\n",
       "      <td>0</td>\n",
       "      <td>0</td>\n",
       "      <td>...</td>\n",
       "      <td>0</td>\n",
       "      <td>0</td>\n",
       "      <td>0</td>\n",
       "      <td>0</td>\n",
       "      <td>0</td>\n",
       "      <td>0</td>\n",
       "      <td>0</td>\n",
       "      <td>0</td>\n",
       "      <td>0</td>\n",
       "      <td>0</td>\n",
       "    </tr>\n",
       "    <tr>\n",
       "      <th>1</th>\n",
       "      <td>0</td>\n",
       "      <td>0</td>\n",
       "      <td>0</td>\n",
       "      <td>0</td>\n",
       "      <td>0</td>\n",
       "      <td>0</td>\n",
       "      <td>0</td>\n",
       "      <td>0</td>\n",
       "      <td>0</td>\n",
       "      <td>0</td>\n",
       "      <td>...</td>\n",
       "      <td>0</td>\n",
       "      <td>0</td>\n",
       "      <td>0</td>\n",
       "      <td>0</td>\n",
       "      <td>0</td>\n",
       "      <td>0</td>\n",
       "      <td>0</td>\n",
       "      <td>0</td>\n",
       "      <td>0</td>\n",
       "      <td>0</td>\n",
       "    </tr>\n",
       "    <tr>\n",
       "      <th>2</th>\n",
       "      <td>1</td>\n",
       "      <td>0</td>\n",
       "      <td>0</td>\n",
       "      <td>0</td>\n",
       "      <td>0</td>\n",
       "      <td>0</td>\n",
       "      <td>0</td>\n",
       "      <td>0</td>\n",
       "      <td>0</td>\n",
       "      <td>0</td>\n",
       "      <td>...</td>\n",
       "      <td>0</td>\n",
       "      <td>0</td>\n",
       "      <td>0</td>\n",
       "      <td>0</td>\n",
       "      <td>0</td>\n",
       "      <td>0</td>\n",
       "      <td>0</td>\n",
       "      <td>0</td>\n",
       "      <td>0</td>\n",
       "      <td>0</td>\n",
       "    </tr>\n",
       "    <tr>\n",
       "      <th>3</th>\n",
       "      <td>4</td>\n",
       "      <td>0</td>\n",
       "      <td>0</td>\n",
       "      <td>0</td>\n",
       "      <td>0</td>\n",
       "      <td>0</td>\n",
       "      <td>0</td>\n",
       "      <td>0</td>\n",
       "      <td>0</td>\n",
       "      <td>0</td>\n",
       "      <td>...</td>\n",
       "      <td>0</td>\n",
       "      <td>0</td>\n",
       "      <td>0</td>\n",
       "      <td>0</td>\n",
       "      <td>0</td>\n",
       "      <td>0</td>\n",
       "      <td>0</td>\n",
       "      <td>0</td>\n",
       "      <td>0</td>\n",
       "      <td>0</td>\n",
       "    </tr>\n",
       "    <tr>\n",
       "      <th>4</th>\n",
       "      <td>0</td>\n",
       "      <td>0</td>\n",
       "      <td>0</td>\n",
       "      <td>0</td>\n",
       "      <td>0</td>\n",
       "      <td>0</td>\n",
       "      <td>0</td>\n",
       "      <td>0</td>\n",
       "      <td>0</td>\n",
       "      <td>0</td>\n",
       "      <td>...</td>\n",
       "      <td>0</td>\n",
       "      <td>0</td>\n",
       "      <td>0</td>\n",
       "      <td>0</td>\n",
       "      <td>0</td>\n",
       "      <td>0</td>\n",
       "      <td>0</td>\n",
       "      <td>0</td>\n",
       "      <td>0</td>\n",
       "      <td>0</td>\n",
       "    </tr>\n",
       "  </tbody>\n",
       "</table>\n",
       "<p>5 rows × 785 columns</p>\n",
       "</div>"
      ]
     },
     "execution_count": 4,
     "metadata": {},
     "output_type": "execute_result"
    }
   ],
   "execution_count": 4
  },
  {
   "cell_type": "code",
   "source": "data = np.array(data)\nm, n = data.shape\nnp.random.shuffle(data)\n\ndata_dev = data[0:1000].T\nY_dev = data_dev[0]\nX_dev = data_dev[1:n]\nX_dev = X_dev / 255.\n\ndata_train = data[1000:m].T\nY_train = data_train[0]\nX_train = data_train[1:n]\nX_train = X_train / 255.\n_, m_train = X_train.shape",
   "metadata": {
    "trusted": true,
    "execution": {
     "iopub.status.busy": "2025-03-30T23:06:18.597242Z",
     "iopub.execute_input": "2025-03-30T23:06:18.597585Z",
     "iopub.status.idle": "2025-03-30T23:06:19.405374Z",
     "shell.execute_reply.started": "2025-03-30T23:06:18.597549Z",
     "shell.execute_reply": "2025-03-30T23:06:19.404278Z"
    },
    "ExecuteTime": {
     "end_time": "2025-04-01T16:53:09.808327Z",
     "start_time": "2025-04-01T16:53:08.105864Z"
    }
   },
   "outputs": [],
   "execution_count": 5
  },
  {
   "cell_type": "code",
   "source": "def init_params():\n    W1 = np.random.rand(10, 784) - 0.5\n    b1 = np.random.rand(10,1) - 0.5\n    W2 = np.random.rand(10, 10) - 0.5\n    b2 = np.random.rand(10,1) - 0.5\n    return W1, b1, W2, b2\n\ndef ReLU(Z):\n    return np.maximum(Z, 0)    #in each element in Z if less than zero returns 0 greater than 0 returns Z\n\ndef softmax(Z):\n    A = np.exp(Z) / sum(np.exp(Z))\n    return A \n    \ndef forward_prop(W1, b1, W2, b2, X):\n    Z1 = W1.dot(X) + b1\n    A1 = ReLU(Z1)\n    Z2 = W2.dot(A1) + b2\n    A2 = softmax(Z2)\n    return Z1, A1, Z2, A2\n\ndef one_hot(Y):\n    one_hot_Y = np.zeros((Y.size, Y.max()+1))    #creates correctly sized matrix\n    one_hot_Y[np.arange(Y.size), Y] = 1         #for each row go to coloum specified by label in y and set it to 1\n    one_hot_Y = one_hot_Y.T\n    return one_hot_Y\n\ndef deriv_ReLU(Z):\n    return Z > 0                                 #if element is greater converts to 1\n\ndef back_prop(Z1, A1, Z2, A2, W1, W2, X, Y):\n    one_hot_Y = one_hot(Y)\n    dZ2 = A2 - one_hot_Y\n    dW2 = 1 / m * dZ2.dot(A1.T)\n    db2 = 1 / m * np.sum(dZ2)\n    dZ1 = W2.T.dot(dZ2) *  deriv_ReLU(Z1)\n    dW1 = 1 / m * dZ1.dot(X.T)\n    db1 = 1 / m * np.sum(dZ1)\n    return dW1, db1, dW2, db2\n\ndef update_params(W1, b1, W2, b2, dW1, db1, dW2, db2, alpha):\n    W1 = W1 - alpha * dW1\n    b1 = b1 - alpha * db1\n    W2 = W2 - alpha * dW2\n    b2 = b2 - alpha * db2\n    return W1, b1, W2, b2\n",
   "metadata": {
    "trusted": true,
    "execution": {
     "iopub.status.busy": "2025-03-30T23:06:19.406464Z",
     "iopub.execute_input": "2025-03-30T23:06:19.406743Z",
     "iopub.status.idle": "2025-03-30T23:06:19.424111Z",
     "shell.execute_reply.started": "2025-03-30T23:06:19.406718Z",
     "shell.execute_reply": "2025-03-30T23:06:19.423026Z"
    },
    "ExecuteTime": {
     "end_time": "2025-04-01T16:53:10.303601Z",
     "start_time": "2025-04-01T16:53:10.256828Z"
    }
   },
   "outputs": [],
   "execution_count": 6
  },
  {
   "cell_type": "code",
   "source": "def get_predictions(A2):\n    return np.argmax(A2, 0)\n\ndef get_accuracy(predictions, Y):\n    print(predictions, Y)\n    return np.sum(predictions == Y) / Y.size\n    \ndef gradient_descent(X, Y, iterations, alpha):\n    W1, b1, W2, b2 = init_params()\n    for i in range(iterations):\n        Z1, A1, Z2, A2 = forward_prop(W1, b1, W2, b2, X)\n        dW1, db1, dW2, db2 = back_prop(Z1, A1, Z2, A2, W1, W2, X, Y)\n        W1, b1, W2, b2 = update_params(W1, b1, W2, b2, dW1, db1, dW2, db2, alpha)\n        if i % 50 == 0:\n            print(\"Iteration: \",i)\n            predictions = get_predictions(A2)\n            print(\"Accuracy: \", get_accuracy(predictions, Y))\n    return W1, b1, W2, b2",
   "metadata": {
    "trusted": true,
    "execution": {
     "iopub.status.busy": "2025-03-30T23:06:19.425165Z",
     "iopub.execute_input": "2025-03-30T23:06:19.425532Z",
     "iopub.status.idle": "2025-03-30T23:06:19.446510Z",
     "shell.execute_reply.started": "2025-03-30T23:06:19.425494Z",
     "shell.execute_reply": "2025-03-30T23:06:19.445540Z"
    },
    "ExecuteTime": {
     "end_time": "2025-04-01T16:53:10.462670Z",
     "start_time": "2025-04-01T16:53:10.445475Z"
    }
   },
   "outputs": [],
   "execution_count": 7
  },
  {
   "cell_type": "code",
   "source": "W1, b1, W2, b2 = gradient_descent(X_train, Y_train, 500, 0.1)",
   "metadata": {
    "trusted": true,
    "execution": {
     "iopub.status.busy": "2025-03-30T23:06:19.448509Z",
     "iopub.execute_input": "2025-03-30T23:06:19.448869Z",
     "iopub.status.idle": "2025-03-30T23:06:55.022185Z",
     "shell.execute_reply.started": "2025-03-30T23:06:19.448840Z",
     "shell.execute_reply": "2025-03-30T23:06:55.021085Z"
    },
    "ExecuteTime": {
     "end_time": "2025-04-01T16:55:18.189338Z",
     "start_time": "2025-04-01T16:53:11.820113Z"
    }
   },
   "outputs": [
    {
     "name": "stdout",
     "output_type": "stream",
     "text": [
      "Iteration:  0\n",
      "[7 9 9 ... 7 5 9] [5 7 4 ... 1 9 5]\n",
      "Accuracy:  0.10017073170731708\n",
      "Iteration:  50\n",
      "[7 7 0 ... 3 5 3] [5 7 4 ... 1 9 5]\n",
      "Accuracy:  0.3624390243902439\n",
      "Iteration:  100\n",
      "[7 7 4 ... 3 9 3] [5 7 4 ... 1 9 5]\n",
      "Accuracy:  0.5812195121951219\n",
      "Iteration:  150\n",
      "[7 7 4 ... 1 9 3] [5 7 4 ... 1 9 5]\n",
      "Accuracy:  0.7037317073170731\n",
      "Iteration:  200\n",
      "[7 7 4 ... 1 9 3] [5 7 4 ... 1 9 5]\n",
      "Accuracy:  0.7525853658536585\n",
      "Iteration:  250\n",
      "[7 7 4 ... 1 9 3] [5 7 4 ... 1 9 5]\n",
      "Accuracy:  0.7817560975609756\n",
      "Iteration:  300\n",
      "[7 7 4 ... 1 9 3] [5 7 4 ... 1 9 5]\n",
      "Accuracy:  0.8013658536585366\n",
      "Iteration:  350\n",
      "[7 7 4 ... 1 9 3] [5 7 4 ... 1 9 5]\n",
      "Accuracy:  0.8165121951219512\n",
      "Iteration:  400\n",
      "[7 7 4 ... 1 9 3] [5 7 4 ... 1 9 5]\n",
      "Accuracy:  0.8268536585365853\n",
      "Iteration:  450\n",
      "[7 7 4 ... 1 9 3] [5 7 4 ... 1 9 5]\n",
      "Accuracy:  0.8355121951219512\n"
     ]
    }
   ],
   "execution_count": 8
  },
  {
   "cell_type": "code",
   "source": "def make_predictions(X, W1, b1, W2, b2):\n    _,_,_, A2 = forward_prop(W1, b1, W2, b2, X)\n    predictions = get_predictions(A2)\n    return predictions\n\ndef test_prediction(index, W1, b1, W2 , b2):\n    current_image = X_train[:, index, None]\n    prediction = make_predictions(X_train[:, index, None], W1, b1, W2, b2)\n    label = Y_train[index]\n    print(\"Prediction: \", prediction)\n    print(\"label: \", label)\n\n    current_image = current_image.reshape((28,28)) * 255\n    plt.gray()\n    plt.imshow(current_image, interpolation = 'nearest')\n    plt.show()",
   "metadata": {
    "trusted": true,
    "execution": {
     "iopub.status.busy": "2025-03-30T23:14:02.906634Z",
     "iopub.execute_input": "2025-03-30T23:14:02.907052Z",
     "iopub.status.idle": "2025-03-30T23:14:02.913598Z",
     "shell.execute_reply.started": "2025-03-30T23:14:02.907024Z",
     "shell.execute_reply": "2025-03-30T23:14:02.912506Z"
    },
    "ExecuteTime": {
     "end_time": "2025-04-01T16:55:18.406273Z",
     "start_time": "2025-04-01T16:55:18.342422Z"
    }
   },
   "outputs": [],
   "execution_count": 9
  },
  {
   "cell_type": "code",
   "source": [
    "test_prediction(10, W1, b1, W2, b2)\n",
    "test_prediction(14, W1, b1, W2, b2)\n",
    "test_prediction(23, W1, b1, W2, b2)\n",
    "test_prediction(19, W1, b1, W2, b2)"
   ],
   "metadata": {
    "trusted": true,
    "execution": {
     "iopub.status.busy": "2025-03-30T23:14:06.980037Z",
     "iopub.execute_input": "2025-03-30T23:14:06.980439Z",
     "iopub.status.idle": "2025-03-30T23:14:07.580258Z",
     "shell.execute_reply.started": "2025-03-30T23:14:06.980405Z",
     "shell.execute_reply": "2025-03-30T23:14:07.579148Z"
    },
    "ExecuteTime": {
     "end_time": "2025-04-01T16:55:20.346912Z",
     "start_time": "2025-04-01T16:55:18.431408Z"
    }
   },
   "outputs": [
    {
     "name": "stdout",
     "output_type": "stream",
     "text": [
      "Prediction:  [7]\n",
      "label:  3\n"
     ]
    },
    {
     "data": {
      "text/plain": [
       "<Figure size 640x480 with 1 Axes>"
      ],
      "image/png": "[encoded data removed]"
     },
     "metadata": {},
     "output_type": "display_data"
    },
    {
     "name": "stdout",
     "output_type": "stream",
     "text": [
      "Prediction:  [6]\n",
      "label:  6\n"
     ]
    },
    {
     "data": {
      "text/plain": [
       "<Figure size 640x480 with 1 Axes>"
      ],
      "image/png": "[encoded data removed]"
     },
     "metadata": {},
     "output_type": "display_data"
    },
    {
     "name": "stdout",
     "output_type": "stream",
     "text": [
      "Prediction:  [8]\n",
      "label:  8\n"
     ]
    },
    {
     "data": {
      "text/plain": [
       "<Figure size 640x480 with 1 Axes>"
      ],
      "image/png": "[encoded data removed]"
     },
     "metadata": {},
     "output_type": "display_data"
    },
    {
     "name": "stdout",
     "output_type": "stream",
     "text": [
      "Prediction:  [9]\n",
      "label:  9\n"
     ]
    },
    {
     "data": {
      "text/plain": [
       "<Figure size 640x480 with 1 Axes>"
      ],
      "image/png": "[encoded data removed]"
     },
     "metadata": {},
     "output_type": "display_data"
    }
   ],
   "execution_count": 10
  },
  {
   "cell_type": "code",
   "source": [
    "dev_predictions = make_predictions(X_dev, W1, b1, W2, b2)\n",
    "accuracy = (get_accuracy(dev_predictions, Y_dev) * 100)\n",
    "print(\"accuracy: \",accuracy,\"%\")"
   ],
   "metadata": {
    "trusted": true,
    "execution": {
     "iopub.status.busy": "2025-03-30T23:15:58.015369Z",
     "iopub.execute_input": "2025-03-30T23:15:58.015837Z",
     "iopub.status.idle": "2025-03-30T23:15:58.029934Z",
     "shell.execute_reply.started": "2025-03-30T23:15:58.015803Z",
     "shell.execute_reply": "2025-03-30T23:15:58.028675Z"
    },
    "ExecuteTime": {
     "end_time": "2025-04-01T16:55:20.491445Z",
     "start_time": "2025-04-01T16:55:20.391305Z"
    }
   },
   "outputs": [
    {
     "name": "stdout",
     "output_type": "stream",
     "text": [
      "[1 8 1 2 7 5 2 0 4 4 7 2 8 1 5 1 0 0 3 8 2 3 5 0 2 1 9 3 7 8 3 2 9 3 2 1 2\n",
      " 9 6 2 5 8 1 0 0 3 7 9 2 0 6 3 2 7 6 1 3 5 3 8 5 8 9 8 7 3 4 7 2 0 4 3 2 0\n",
      " 8 1 1 0 7 6 7 5 3 3 2 4 3 8 9 3 2 3 5 1 3 8 8 3 7 6 1 1 3 8 7 4 4 8 2 7 7\n",
      " 3 4 7 4 6 1 0 0 8 8 7 7 0 4 5 8 3 2 4 4 5 8 6 7 4 1 8 7 1 6 3 3 1 1 6 9 2\n",
      " 6 8 2 3 0 5 3 4 1 7 1 6 5 0 6 6 0 8 1 9 3 9 3 2 7 5 8 8 8 8 3 6 2 9 6 7 1\n",
      " 9 7 0 0 3 5 0 6 7 5 1 8 7 8 7 0 0 8 5 7 1 4 6 9 0 1 9 0 4 6 0 1 7 4 4 5 9\n",
      " 2 6 1 4 4 1 7 3 9 5 1 4 0 6 3 0 9 0 8 4 3 0 7 0 9 7 6 4 2 9 1 8 2 9 6 5 0\n",
      " 4 9 3 6 2 3 3 1 0 8 1 8 2 9 3 8 2 0 5 1 1 8 5 8 3 8 0 8 1 3 1 6 0 3 9 0 4\n",
      " 4 2 9 0 1 6 2 7 0 3 0 7 8 9 7 6 0 2 8 5 8 9 1 8 7 1 5 8 3 7 7 8 6 2 9 0 3\n",
      " 6 2 5 1 8 9 1 3 2 4 1 1 6 2 5 0 1 0 3 9 2 9 0 8 3 4 8 1 8 6 1 9 1 6 7 3 0\n",
      " 6 8 9 2 2 0 5 4 6 2 6 1 9 9 9 2 6 5 0 1 2 2 9 3 5 0 1 5 7 5 9 3 4 5 1 3 1\n",
      " 1 3 4 7 7 9 8 7 1 9 0 7 1 0 6 6 0 1 1 0 9 1 0 4 5 8 7 4 4 3 2 2 3 2 3 1 8\n",
      " 4 3 3 5 3 0 6 8 5 0 1 9 9 2 4 5 6 8 3 3 6 4 2 4 3 9 9 0 7 9 9 5 4 2 9 5 7\n",
      " 1 6 2 6 3 4 4 9 8 3 8 9 1 4 9 5 9 7 5 3 4 3 1 7 9 5 0 9 4 4 1 2 1 4 4 6 7\n",
      " 9 6 4 6 9 7 6 8 2 3 1 7 5 5 7 9 5 2 2 6 1 1 0 3 7 3 9 5 6 1 8 7 0 3 4 4 3\n",
      " 7 8 4 8 6 0 8 5 8 0 1 4 2 2 1 8 2 5 3 3 1 9 1 9 8 7 8 2 7 6 8 8 8 2 2 3 6\n",
      " 2 5 1 4 8 1 9 6 1 4 4 3 0 1 0 1 0 8 9 7 6 4 8 4 8 5 9 4 2 6 7 3 9 2 8 6 2\n",
      " 1 7 2 2 2 2 0 9 8 1 8 2 2 6 4 8 7 1 1 5 7 0 7 0 4 4 2 2 9 1 1 7 6 7 0 8 4\n",
      " 4 3 1 3 5 4 0 3 9 7 1 4 5 3 5 9 9 9 1 1 6 0 1 2 1 4 3 8 2 7 8 8 3 9 9 7 8\n",
      " 3 1 2 6 8 0 4 3 7 9 0 9 4 8 7 4 1 7 6 2 3 8 2 9 0 6 1 0 6 3 9 3 7 0 8 6 7\n",
      " 0 0 6 4 3 7 7 0 2 6 5 6 6 1 3 7 2 6 5 1 7 7 5 7 0 9 8 5 2 2 8 3 9 4 7 2 9\n",
      " 7 8 5 2 1 3 9 3 4 8 1 0 0 1 1 4 0 4 0 4 4 8 9 9 8 0 8 8 5 2 7 6 0 7 6 3 8\n",
      " 4 0 8 4 3 9 8 1 9 4 1 7 7 8 4 5 1 2 0 8 3 8 2 5 7 6 5 7 4 2 8 5 1 1 9 2 6\n",
      " 5 4 1 5 5 3 6 4 2 3 1 9 2 6 9 7 1 6 3 5 6 2 7 8 8 8 5 9 2 1 7 8 0 3 1 6 0\n",
      " 6 7 8 7 2 0 8 9 7 1 1 1 9 4 8 0 7 2 6 4 2 5 4 6 6 4 6 6 1 6 3 4 1 0 0 2 7\n",
      " 7 8 2 2 6 5 3 9 0 4 5 8 2 9 9 8 0 0 2 8 4 6 9 6 8 6 3 6 7 3 5 1 1 4 7 4 6\n",
      " 8 5 8 3 2 4 2 1 6 2 9 8 3 7 5 6 0 1 7 8 2 9 3 8 9 4 1 2 6 7 1 7 9 2 3 3 4\n",
      " 6] [1 6 1 2 7 5 8 6 5 4 7 2 8 1 5 1 0 0 8 8 2 3 5 0 2 7 9 3 5 8 3 2 4 3 8 1 2\n",
      " 9 6 2 8 8 1 0 0 3 7 9 2 0 6 3 6 7 6 1 3 5 3 8 8 8 4 8 7 3 2 7 2 0 9 3 2 0\n",
      " 8 1 1 0 7 6 7 5 8 3 8 4 3 3 4 5 2 3 3 1 3 8 7 3 7 6 1 1 5 6 7 4 4 8 2 7 7\n",
      " 3 4 7 4 6 1 0 0 8 8 7 7 6 4 5 8 3 2 4 4 5 8 6 3 4 1 8 7 1 6 8 2 1 1 6 9 2\n",
      " 6 8 9 3 0 5 3 4 7 7 1 6 5 0 6 6 0 8 1 9 8 9 3 2 7 3 8 8 1 8 5 6 6 9 6 7 1\n",
      " 9 7 0 0 3 7 0 6 7 5 1 8 7 8 7 0 0 8 3 7 1 4 6 9 0 1 9 0 4 6 0 1 7 9 4 5 4\n",
      " 2 6 1 4 9 1 7 5 4 5 8 4 0 3 3 0 9 0 8 4 3 0 7 0 9 7 6 4 2 9 1 8 2 9 8 5 5\n",
      " 9 9 3 2 2 3 3 1 0 8 1 8 2 9 3 8 2 0 5 1 1 8 5 8 3 8 0 8 1 3 1 6 0 3 9 0 4\n",
      " 4 2 9 0 1 6 3 7 0 3 6 7 8 9 7 6 0 2 5 5 8 9 1 8 7 1 5 8 3 7 7 2 2 2 7 0 5\n",
      " 6 2 5 1 5 9 1 3 2 4 1 1 6 6 5 0 1 0 0 9 2 9 5 3 3 9 1 1 2 6 1 9 1 6 7 3 0\n",
      " 6 8 9 2 2 0 5 4 6 3 6 2 9 9 9 2 6 5 0 1 2 2 8 2 5 0 1 5 7 6 8 3 4 5 1 3 1\n",
      " 1 3 4 7 0 9 8 5 1 4 0 9 7 0 2 6 0 2 1 0 9 1 0 4 5 8 7 0 4 3 2 2 3 2 3 1 8\n",
      " 4 3 3 5 3 0 6 8 5 0 1 9 3 2 4 5 6 8 3 3 6 4 2 4 3 9 9 0 7 7 3 5 9 2 9 5 2\n",
      " 1 3 5 6 3 4 4 9 2 3 8 9 1 4 9 5 9 7 5 3 5 3 1 7 9 5 0 9 4 4 1 3 1 4 4 6 7\n",
      " 9 8 4 6 9 7 5 8 2 3 1 7 8 3 7 9 5 2 2 8 1 9 0 3 7 3 3 5 6 1 8 7 0 3 4 4 3\n",
      " 7 1 4 8 6 0 8 5 6 0 1 4 2 2 1 8 2 5 3 8 1 9 1 9 8 3 8 2 7 6 0 5 8 2 2 3 6\n",
      " 2 5 2 8 8 3 9 5 1 4 4 3 0 1 0 1 0 3 9 7 6 4 8 4 8 5 8 6 2 6 7 3 7 2 1 6 4\n",
      " 1 7 2 2 2 6 0 9 8 1 5 2 2 6 4 8 7 1 1 5 7 0 7 0 4 4 2 2 9 1 1 7 6 7 0 8 4\n",
      " 4 3 1 8 5 4 0 1 8 7 1 5 5 5 5 9 9 8 1 1 6 0 1 2 1 4 3 2 2 7 9 8 3 7 3 7 8\n",
      " 3 1 9 6 3 0 4 3 7 9 0 9 4 5 7 4 1 7 6 2 3 8 2 9 0 6 1 0 6 1 4 3 7 7 8 6 7\n",
      " 0 0 6 4 3 7 7 0 2 6 5 6 6 1 3 7 6 6 5 1 7 7 5 0 0 7 5 5 2 2 8 3 7 4 7 2 9\n",
      " 9 8 0 2 1 3 9 5 4 8 1 0 7 1 1 4 0 4 0 4 4 5 4 9 3 3 4 5 8 8 7 6 0 7 6 3 9\n",
      " 9 0 8 4 3 9 8 1 9 4 1 7 7 8 4 5 1 2 0 8 3 8 6 5 7 6 5 7 4 2 9 6 1 1 9 2 6\n",
      " 5 4 1 5 8 2 6 4 2 3 1 9 2 6 9 7 1 6 3 5 6 2 7 1 3 5 5 7 2 1 7 8 0 5 1 6 0\n",
      " 6 7 8 7 2 0 3 9 7 8 1 1 9 4 2 0 7 2 2 4 2 5 4 6 6 4 6 6 1 6 3 4 1 0 0 7 7\n",
      " 7 7 2 3 6 5 3 9 0 4 5 3 2 5 5 8 0 0 2 7 4 6 9 6 8 6 1 6 7 3 5 1 1 4 7 7 6\n",
      " 8 3 8 3 2 4 3 1 6 2 0 8 3 7 5 6 0 1 7 8 2 9 3 8 9 4 1 2 6 7 1 7 9 2 3 3 4\n",
      " 5]\n",
      "accuracy:  82.6 %\n"
     ]
    }
   ],
   "execution_count": 11
  }
 ]
}
